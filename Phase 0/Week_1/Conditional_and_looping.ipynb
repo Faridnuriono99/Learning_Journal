{
  "nbformat": 4,
  "nbformat_minor": 0,
  "metadata": {
    "colab": {
      "name": "Conditional_and_looping.ipynb",
      "provenance": []
    },
    "kernelspec": {
      "name": "python3",
      "display_name": "Python 3"
    },
    "language_info": {
      "name": "python"
    }
  },
  "cells": [
    {
      "cell_type": "markdown",
      "source": [
        "## Conditional"
      ],
      "metadata": {
        "id": "3pVxEpzIVObR"
      }
    },
    {
      "cell_type": "code",
      "source": [
        "Angka = 25\n",
        "print(Angka)\n",
        "print(f'{Angka} lebih besar dari 30') # f mengubah kurung kurawal menjadi pengambilan variabel"
      ],
      "metadata": {
        "colab": {
          "base_uri": "https://localhost:8080/"
        },
        "id": "tOky174JVOI_",
        "outputId": "8ac85240-693d-4983-9d84-6ac9e8748776"
      },
      "execution_count": 6,
      "outputs": [
        {
          "output_type": "stream",
          "name": "stdout",
          "text": [
            "25\n",
            "25 lebih besar dari 30\n"
          ]
        }
      ]
    },
    {
      "cell_type": "code",
      "execution_count": 7,
      "metadata": {
        "colab": {
          "base_uri": "https://localhost:8080/"
        },
        "id": "bphPQuybVD98",
        "outputId": "c51e0647-a3c5-4104-e3f3-e3653ec2e6af"
      },
      "outputs": [
        {
          "output_type": "execute_result",
          "data": {
            "text/plain": [
              "True"
            ]
          },
          "metadata": {},
          "execution_count": 7
        }
      ],
      "source": [
        "True"
      ]
    },
    {
      "cell_type": "code",
      "source": [
        "False"
      ],
      "metadata": {
        "colab": {
          "base_uri": "https://localhost:8080/"
        },
        "id": "S8oXfy9-X8kg",
        "outputId": "a1475ea8-567c-4e76-9871-1dd93b82f907"
      },
      "execution_count": 8,
      "outputs": [
        {
          "output_type": "execute_result",
          "data": {
            "text/plain": [
              "False"
            ]
          },
          "metadata": {},
          "execution_count": 8
        }
      ]
    },
    {
      "cell_type": "code",
      "source": [
        "angka = 29\n",
        "if True:\n",
        "  print(f\"{angka} lebih besar dari 30\")"
      ],
      "metadata": {
        "colab": {
          "base_uri": "https://localhost:8080/"
        },
        "id": "SwaOamW1YAoX",
        "outputId": "cc376b75-368f-42bc-8fd2-cc5880428540"
      },
      "execution_count": 13,
      "outputs": [
        {
          "output_type": "stream",
          "name": "stdout",
          "text": [
            "46 lebih besar dari 30\n"
          ]
        }
      ]
    },
    {
      "cell_type": "code",
      "source": [
        "35 > 30"
      ],
      "metadata": {
        "colab": {
          "base_uri": "https://localhost:8080/"
        },
        "id": "_lD6qTi0YhT9",
        "outputId": "465e9139-93d3-4433-cade-32237c2bf57b"
      },
      "execution_count": 14,
      "outputs": [
        {
          "output_type": "execute_result",
          "data": {
            "text/plain": [
              "True"
            ]
          },
          "metadata": {},
          "execution_count": 14
        }
      ]
    },
    {
      "cell_type": "code",
      "source": [
        "angka = 46\n",
        "if angka > 30:\n",
        "  print(f\"{angka} lebih besar dari 30\")"
      ],
      "metadata": {
        "colab": {
          "base_uri": "https://localhost:8080/"
        },
        "id": "nI8cmw1qZWka",
        "outputId": "bfe05a99-571e-4003-a00d-990c15e4b4d4"
      },
      "execution_count": 16,
      "outputs": [
        {
          "output_type": "stream",
          "name": "stdout",
          "text": [
            "46 lebih besar dari 30\n"
          ]
        }
      ]
    },
    {
      "cell_type": "code",
      "source": [
        "angka = \n",
        "if angka > 30:\n",
        "  print(f\"{angka} lebih besar dari 30\")\n",
        "else:\n",
        "  print(f'{angka} lebih kecil dari 30')"
      ],
      "metadata": {
        "colab": {
          "base_uri": "https://localhost:8080/"
        },
        "id": "yDYMTfIxZjKU",
        "outputId": "2b4daa17-6d21-454e-cadf-61fb5254e55b"
      },
      "execution_count": 17,
      "outputs": [
        {
          "output_type": "stream",
          "name": "stdout",
          "text": [
            "46 lebih besar dari 30\n"
          ]
        }
      ]
    },
    {
      "cell_type": "markdown",
      "source": [
        "Cek apaka angka yang berada di variable angka adalah bilangan ganjil/genap?"
      ],
      "metadata": {
        "id": "GmUIHq8AaVU0"
      }
    },
    {
      "cell_type": "code",
      "source": [
        "angka = 15\n",
        "\n",
        "if angka%2 == 0 :\n",
        "  print(f\"{angka} adalah bilangan genap\")\n",
        "else:\n",
        "  print(f'{angka} adalah bilangan ganjil')"
      ],
      "metadata": {
        "colab": {
          "base_uri": "https://localhost:8080/"
        },
        "id": "QZgyutxDaiPg",
        "outputId": "8a75cbd1-da24-4d37-bc17-7d75aad9df6d"
      },
      "execution_count": 18,
      "outputs": [
        {
          "output_type": "stream",
          "name": "stdout",
          "text": [
            "15 adalah bilangan ganjil\n"
          ]
        }
      ]
    },
    {
      "cell_type": "code",
      "source": [
        "angka = 15\n",
        "\n",
        "if angka%2 != 0 :\n",
        "  print(f\"{angka} adalah bilangan ganjil\")\n",
        "else:\n",
        "  print(f'{angka} adalah bilangan genap')"
      ],
      "metadata": {
        "colab": {
          "base_uri": "https://localhost:8080/"
        },
        "id": "elV3_TgWbciq",
        "outputId": "d704089b-758f-4259-9d50-bcb4e45ef77b"
      },
      "execution_count": 20,
      "outputs": [
        {
          "output_type": "stream",
          "name": "stdout",
          "text": [
            "15 adalah bilangan ganjil\n"
          ]
        }
      ]
    },
    {
      "cell_type": "code",
      "source": [
        "bahasa_pemograman = [\"python\", \"java\", \"javascript\", \"Golang\"]\n",
        "bahasa = \"python\"\n",
        "\n",
        "if bahasa in bahasa_pemograman:\n",
        "  print(f\"{bahasa} ada dalam list bahasa_pemograman\")\n",
        "else:\n",
        "  print(f\"{bahasa} ada dalam list bahasa_pemograman\")\n",
        "\n"
      ],
      "metadata": {
        "colab": {
          "base_uri": "https://localhost:8080/"
        },
        "id": "dQR4hkOhbp68",
        "outputId": "7ef91934-5f8e-416d-9eff-1b66f252fc55"
      },
      "execution_count": 22,
      "outputs": [
        {
          "output_type": "stream",
          "name": "stdout",
          "text": [
            "python ada dalam list bahasa_pemograman\n"
          ]
        }
      ]
    },
    {
      "cell_type": "code",
      "source": [
        "angka = 35 \n",
        "if angka > 30:\n",
        "   print(f\"{angka} lebih besar dari 30\")\n",
        "if angka == 30:\n",
        "  print(f\"{angka} sama dengan 30\")\n",
        "else:\n",
        "  print(f\"{angka} lebih kecil dari 30\")"
      ],
      "metadata": {
        "colab": {
          "base_uri": "https://localhost:8080/"
        },
        "id": "_OfY-XDQdnD0",
        "outputId": "2b9f3b0d-035c-49c4-9fb1-e1b7a8dd9c59"
      },
      "execution_count": 23,
      "outputs": [
        {
          "output_type": "stream",
          "name": "stdout",
          "text": [
            "35 lebih besar dari 30\n",
            "35 lebih kecil dari 30\n"
          ]
        }
      ]
    },
    {
      "cell_type": "code",
      "source": [
        "angka = 35 \n",
        "if angka > 30:\n",
        "   print(f\"{angka} lebih besar dari 30\")  #if Satu (selalu ada)\n",
        "elif angka == 30:\n",
        "  print(f\"{angka} sama dengan 30\")  # if boleh banyak\n",
        "else:\n",
        "  print(f\"{angka} lebih kecil dari 30\") #else satu (boleh ada atau engga)"
      ],
      "metadata": {
        "colab": {
          "base_uri": "https://localhost:8080/"
        },
        "id": "BO00K6OyedDH",
        "outputId": "13b58929-e6de-4fed-afe3-a8aab443c360"
      },
      "execution_count": 24,
      "outputs": [
        {
          "output_type": "stream",
          "name": "stdout",
          "text": [
            "35 lebih besar dari 30\n"
          ]
        }
      ]
    },
    {
      "cell_type": "markdown",
      "source": [
        "Dictionary"
      ],
      "metadata": {
        "id": "fn6sXCKNfD14"
      }
    },
    {
      "cell_type": "code",
      "source": [
        "Biodata = {'nama': \"Farid\", 'Pekerjaan':'Data Science', 'Usia':20 }\n",
        "'usia' in Biodata"
      ],
      "metadata": {
        "colab": {
          "base_uri": "https://localhost:8080/"
        },
        "id": "scll_y8FeqMx",
        "outputId": "f62f4f44-8f2b-4021-d54c-aa31d184c110"
      },
      "execution_count": 26,
      "outputs": [
        {
          "output_type": "execute_result",
          "data": {
            "text/plain": [
              "False"
            ]
          },
          "metadata": {},
          "execution_count": 26
        }
      ]
    },
    {
      "cell_type": "markdown",
      "source": [
        "## Nested If"
      ],
      "metadata": {
        "id": "49Ur44DghEI3"
      }
    },
    {
      "cell_type": "code",
      "source": [
        "angka = 16 \n",
        "\n",
        "if angka%2 != 0 :\n",
        "  print(f\"{angka} adalah bilangan ganjil\")\n",
        "  if angka > 10:\n",
        "   print(f\"{angka} lebih besar dari 10\")\n",
        "  else :\n",
        "   print(f\"{angka} lebi kecil dari 10\") \n",
        "else:\n",
        "  print(f\"{angka} adalah bilangan genap\")"
      ],
      "metadata": {
        "colab": {
          "base_uri": "https://localhost:8080/"
        },
        "id": "U36CwY1oftui",
        "outputId": "69d7818a-0532-49a0-c470-21e15a3e322c"
      },
      "execution_count": 27,
      "outputs": [
        {
          "output_type": "stream",
          "name": "stdout",
          "text": [
            "16 adalah bilangan genap\n"
          ]
        }
      ]
    },
    {
      "cell_type": "markdown",
      "source": [
        ""
      ],
      "metadata": {
        "id": "veERBC4fiRI-"
      }
    },
    {
      "cell_type": "code",
      "source": [
        "# [85 -100] : A\n",
        "# [70 - 85] : B\n",
        "# [50 - 70] : C\n",
        "# [25 - 50] : D\n",
        "# [0 - 25] : E"
      ],
      "metadata": {
        "id": "KiuyRyACiUgk"
      },
      "execution_count": null,
      "outputs": []
    },
    {
      "cell_type": "code",
      "source": [
        "score = 20\n",
        "if 85 <= score <= 100:\n",
        "    result = 'A'\n",
        "elif 70 <= score < 85:\n",
        "    result = 'B'\n",
        "elif 50 <= score < 70:\n",
        "    result = 'C'\n",
        "elif 25 <= score < 50:\n",
        "    result = 'D'\n",
        "elif 0 <= score < 25:\n",
        "    result = 'E'\n",
        "\n",
        "print(result)"
      ],
      "metadata": {
        "colab": {
          "base_uri": "https://localhost:8080/"
        },
        "id": "6FAnl0iZhKPU",
        "outputId": "a4e7cf04-58c4-425d-b320-4134fc4f0583"
      },
      "execution_count": 29,
      "outputs": [
        {
          "output_type": "stream",
          "name": "stdout",
          "text": [
            "E\n"
          ]
        }
      ]
    },
    {
      "cell_type": "code",
      "source": [
        "nilai = 102\n",
        "if 85 <= nilai <=100:\n",
        "  print(f'{nilai} memiliki indeks A')\n",
        "elif 70 <= nilai < 85:\n",
        "  print(f'{nilai} memiliki indeks B')\n",
        "elif 50 <= nilai < 70:\n",
        "  print(f'{nilai} memiliki indeks C')\n",
        "elif 25 <= nilai < 50:\n",
        "  print(f'{nilai} memiliki indeks D')\n",
        "elif 0 <= nilai <25:\n",
        "  print(f'{nilai} memiliki indeks E')\n",
        "else:\n",
        "  print('nilai tidak ada')\n"
      ],
      "metadata": {
        "colab": {
          "base_uri": "https://localhost:8080/"
        },
        "id": "mYzbO_Krjtst",
        "outputId": "7075dd02-cbc1-4a81-bfef-5d3d44131f34"
      },
      "execution_count": 30,
      "outputs": [
        {
          "output_type": "stream",
          "name": "stdout",
          "text": [
            "nilai tidak ada\n"
          ]
        }
      ]
    },
    {
      "cell_type": "code",
      "source": [
        "angka = 120\n",
        "if 0 <= angka <= 100:\n",
        "  if angka >= 85:\n",
        "    print(\"A\") \n",
        "  elif angka >= 70:\n",
        "    print(\"B\")\n",
        "  elif angka >= 50:\n",
        "    print(\"C\")  \n",
        "  elif angka >= 25:\n",
        "    print(\"D\")  \n",
        "  else:\n",
        "    print(\"E\")\n",
        "else:\n",
        "  print(\"Nilai tidak valid\")\n"
      ],
      "metadata": {
        "colab": {
          "base_uri": "https://localhost:8080/"
        },
        "id": "82G_RmNtkFo6",
        "outputId": "994ad6b5-89f6-46ab-ddd2-f4d649af7d31"
      },
      "execution_count": 32,
      "outputs": [
        {
          "output_type": "stream",
          "name": "stdout",
          "text": [
            "Nilai tidak valid\n"
          ]
        }
      ]
    },
    {
      "cell_type": "markdown",
      "source": [
        "## Looping"
      ],
      "metadata": {
        "id": "gUHrJTrUml7y"
      }
    },
    {
      "cell_type": "code",
      "source": [
        "# mengulang syntax yang ada dibawah\n",
        " #infinity loop (tak hingga), "
      ],
      "metadata": {
        "id": "hTYCm67umqYZ"
      },
      "execution_count": null,
      "outputs": []
    },
    {
      "cell_type": "code",
      "source": [
        "angka = 1"
      ],
      "metadata": {
        "id": "rvGiE1-snqgF"
      },
      "execution_count": null,
      "outputs": []
    },
    {
      "cell_type": "code",
      "source": [
        "angka = 2\n",
        "print(angka)"
      ],
      "metadata": {
        "colab": {
          "base_uri": "https://localhost:8080/"
        },
        "id": "pwIjpUKdnqVm",
        "outputId": "47b15419-89de-44fd-a2c2-a5fbd1b6a46d"
      },
      "execution_count": 33,
      "outputs": [
        {
          "output_type": "stream",
          "name": "stdout",
          "text": [
            "2\n"
          ]
        }
      ]
    },
    {
      "cell_type": "code",
      "source": [
        "angka = 3\n",
        "print(angka)"
      ],
      "metadata": {
        "colab": {
          "base_uri": "https://localhost:8080/"
        },
        "id": "guSpd5tNny1e",
        "outputId": "5b1818be-6f42-4643-e2a7-f373efb40d6f"
      },
      "execution_count": 34,
      "outputs": [
        {
          "output_type": "stream",
          "name": "stdout",
          "text": [
            "3\n"
          ]
        }
      ]
    },
    {
      "cell_type": "code",
      "source": [
        "angka = angka + 1\n",
        "print(angka)"
      ],
      "metadata": {
        "colab": {
          "base_uri": "https://localhost:8080/"
        },
        "id": "hi9yFN3On-Ei",
        "outputId": "b47e194a-efab-4204-e56a-8926137cbe4a"
      },
      "execution_count": 35,
      "outputs": [
        {
          "output_type": "stream",
          "name": "stdout",
          "text": [
            "4\n"
          ]
        }
      ]
    },
    {
      "cell_type": "code",
      "source": [
        "angka = angka +2\n",
        "print(angka)"
      ],
      "metadata": {
        "colab": {
          "base_uri": "https://localhost:8080/"
        },
        "id": "5yxslLDyoIlJ",
        "outputId": "98230f77-25b4-4104-cc89-c2c52f891792"
      },
      "execution_count": 36,
      "outputs": [
        {
          "output_type": "stream",
          "name": "stdout",
          "text": [
            "6\n"
          ]
        }
      ]
    },
    {
      "cell_type": "code",
      "source": [
        "i = 0\n",
        "while i < 5:\n",
        "  print(f'i={i}, dalam while loop')\n",
        "  i = i + 1"
      ],
      "metadata": {
        "colab": {
          "base_uri": "https://localhost:8080/"
        },
        "id": "du3MJDIeoQ0K",
        "outputId": "28e98c11-391e-4d4f-c201-84fb9a51ede4"
      },
      "execution_count": 39,
      "outputs": [
        {
          "output_type": "stream",
          "name": "stdout",
          "text": [
            "i=0, dalam while loop\n",
            "i=1, dalam while loop\n",
            "i=2, dalam while loop\n",
            "i=3, dalam while loop\n",
            "i=4, dalam while loop\n"
          ]
        }
      ]
    },
    {
      "cell_type": "code",
      "source": [
        "i = 0\n",
        "while i < 5:\n",
        "  i = i + 1\n",
        "  print(f'i={i}, dalam while loop')"
      ],
      "metadata": {
        "colab": {
          "base_uri": "https://localhost:8080/"
        },
        "id": "AniZB0MtpMNc",
        "outputId": "e8036242-4551-4995-da3a-9e2989001ed1"
      },
      "execution_count": 40,
      "outputs": [
        {
          "output_type": "stream",
          "name": "stdout",
          "text": [
            "i=1, dalam while loop\n",
            "i=2, dalam while loop\n",
            "i=3, dalam while loop\n",
            "i=4, dalam while loop\n",
            "i=5, dalam while loop\n"
          ]
        }
      ]
    },
    {
      "cell_type": "code",
      "source": [
        "i = 1\n",
        "while i <= 10:\n",
        " print(f'7 x {i} = {7*i}')\n",
        " i += 1 # i = i + 1"
      ],
      "metadata": {
        "colab": {
          "base_uri": "https://localhost:8080/"
        },
        "id": "1SXYKxw5pXVI",
        "outputId": "0216de17-492e-4b4b-ac67-5ebc9376e8c3"
      },
      "execution_count": 42,
      "outputs": [
        {
          "output_type": "stream",
          "name": "stdout",
          "text": [
            "7 x 1 = 7\n",
            "7 x 2 = 14\n",
            "7 x 3 = 21\n",
            "7 x 4 = 28\n",
            "7 x 5 = 35\n",
            "7 x 6 = 42\n",
            "7 x 7 = 49\n",
            "7 x 8 = 56\n",
            "7 x 9 = 63\n",
            "7 x 10 = 70\n"
          ]
        }
      ]
    },
    {
      "cell_type": "markdown",
      "source": [
        "## Nested Loop"
      ],
      "metadata": {
        "id": "6JMnpuITrOxS"
      }
    },
    {
      "cell_type": "code",
      "source": [
        "i = 1\n",
        "j = 1\n",
        "\n",
        "while j <=10:\n",
        "  i = j\n",
        "  while i <= 10:\n",
        "    print(f'{j} x {i} = {j*i}')\n",
        "    i += 1\n",
        "  print('*'*50)\n",
        "  j +=1"
      ],
      "metadata": {
        "colab": {
          "base_uri": "https://localhost:8080/"
        },
        "id": "WmjoN2PkrSMy",
        "outputId": "9e2f605e-8b1d-440d-b309-fa2bbcd11560"
      },
      "execution_count": 44,
      "outputs": [
        {
          "output_type": "stream",
          "name": "stdout",
          "text": [
            "1 x 1 = 1\n",
            "1 x 2 = 2\n",
            "1 x 3 = 3\n",
            "1 x 4 = 4\n",
            "1 x 5 = 5\n",
            "1 x 6 = 6\n",
            "1 x 7 = 7\n",
            "1 x 8 = 8\n",
            "1 x 9 = 9\n",
            "1 x 10 = 10\n",
            "**************************************************\n",
            "2 x 2 = 4\n",
            "2 x 3 = 6\n",
            "2 x 4 = 8\n",
            "2 x 5 = 10\n",
            "2 x 6 = 12\n",
            "2 x 7 = 14\n",
            "2 x 8 = 16\n",
            "2 x 9 = 18\n",
            "2 x 10 = 20\n",
            "**************************************************\n",
            "3 x 3 = 9\n",
            "3 x 4 = 12\n",
            "3 x 5 = 15\n",
            "3 x 6 = 18\n",
            "3 x 7 = 21\n",
            "3 x 8 = 24\n",
            "3 x 9 = 27\n",
            "3 x 10 = 30\n",
            "**************************************************\n",
            "4 x 4 = 16\n",
            "4 x 5 = 20\n",
            "4 x 6 = 24\n",
            "4 x 7 = 28\n",
            "4 x 8 = 32\n",
            "4 x 9 = 36\n",
            "4 x 10 = 40\n",
            "**************************************************\n",
            "5 x 5 = 25\n",
            "5 x 6 = 30\n",
            "5 x 7 = 35\n",
            "5 x 8 = 40\n",
            "5 x 9 = 45\n",
            "5 x 10 = 50\n",
            "**************************************************\n",
            "6 x 6 = 36\n",
            "6 x 7 = 42\n",
            "6 x 8 = 48\n",
            "6 x 9 = 54\n",
            "6 x 10 = 60\n",
            "**************************************************\n",
            "7 x 7 = 49\n",
            "7 x 8 = 56\n",
            "7 x 9 = 63\n",
            "7 x 10 = 70\n",
            "**************************************************\n",
            "8 x 8 = 64\n",
            "8 x 9 = 72\n",
            "8 x 10 = 80\n",
            "**************************************************\n",
            "9 x 9 = 81\n",
            "9 x 10 = 90\n",
            "**************************************************\n",
            "10 x 10 = 100\n",
            "**************************************************\n"
          ]
        }
      ]
    },
    {
      "cell_type": "code",
      "source": [
        "#Break"
      ],
      "metadata": {
        "id": "QcYci2nstUZb"
      },
      "execution_count": null,
      "outputs": []
    },
    {
      "cell_type": "code",
      "source": [
        "# continue\n",
        "\n",
        "i = 1\n",
        "while i <= 10:\n",
        "  i += 1\n",
        "  if i== 5:\n",
        "    continue\n",
        "  print(f'7 x {7*i}')"
      ],
      "metadata": {
        "colab": {
          "base_uri": "https://localhost:8080/"
        },
        "id": "Nd23Lz5QuxAH",
        "outputId": "8eed0999-51c0-4016-e10c-75cf39430f84"
      },
      "execution_count": 45,
      "outputs": [
        {
          "output_type": "stream",
          "name": "stdout",
          "text": [
            "7 x 14\n",
            "7 x 21\n",
            "7 x 28\n",
            "7 x 42\n",
            "7 x 49\n",
            "7 x 56\n",
            "7 x 63\n",
            "7 x 70\n",
            "7 x 77\n"
          ]
        }
      ]
    },
    {
      "cell_type": "code",
      "source": [
        "i = 1\n",
        "while i <= 10:\n",
        "  \n",
        "  if i== 5:\n",
        "    continue\n",
        "  print(f'7 x {7*i}')\n",
        "  i += 1"
      ],
      "metadata": {
        "colab": {
          "base_uri": "https://localhost:8080/",
          "height": 320
        },
        "id": "6H3iLPqZvjfY",
        "outputId": "32d63882-6eee-4ebb-e319-818659613980"
      },
      "execution_count": 46,
      "outputs": [
        {
          "output_type": "stream",
          "name": "stdout",
          "text": [
            "7 x 7\n",
            "7 x 14\n",
            "7 x 21\n",
            "7 x 28\n"
          ]
        },
        {
          "output_type": "error",
          "ename": "KeyboardInterrupt",
          "evalue": "ignored",
          "traceback": [
            "\u001b[0;31m---------------------------------------------------------------------------\u001b[0m",
            "\u001b[0;31mKeyboardInterrupt\u001b[0m                         Traceback (most recent call last)",
            "\u001b[0;32m<ipython-input-46-34b919c41c4e>\u001b[0m in \u001b[0;36m<module>\u001b[0;34m()\u001b[0m\n\u001b[1;32m      2\u001b[0m \u001b[0;32mwhile\u001b[0m \u001b[0mi\u001b[0m \u001b[0;34m<=\u001b[0m \u001b[0;36m10\u001b[0m\u001b[0;34m:\u001b[0m\u001b[0;34m\u001b[0m\u001b[0;34m\u001b[0m\u001b[0m\n\u001b[1;32m      3\u001b[0m \u001b[0;34m\u001b[0m\u001b[0m\n\u001b[0;32m----> 4\u001b[0;31m   \u001b[0;32mif\u001b[0m \u001b[0mi\u001b[0m\u001b[0;34m==\u001b[0m \u001b[0;36m5\u001b[0m\u001b[0;34m:\u001b[0m\u001b[0;34m\u001b[0m\u001b[0;34m\u001b[0m\u001b[0m\n\u001b[0m\u001b[1;32m      5\u001b[0m     \u001b[0;32mcontinue\u001b[0m\u001b[0;34m\u001b[0m\u001b[0;34m\u001b[0m\u001b[0m\n\u001b[1;32m      6\u001b[0m   \u001b[0mprint\u001b[0m\u001b[0;34m(\u001b[0m\u001b[0;34mf'7 x {7*i}'\u001b[0m\u001b[0;34m)\u001b[0m\u001b[0;34m\u001b[0m\u001b[0;34m\u001b[0m\u001b[0m\n",
            "\u001b[0;31mKeyboardInterrupt\u001b[0m: "
          ]
        }
      ]
    },
    {
      "cell_type": "markdown",
      "source": [
        "## For Loop"
      ],
      "metadata": {
        "id": "369bBtTsvw4_"
      }
    },
    {
      "cell_type": "code",
      "source": [
        "buah = ['Pepaya', 'Jambu', 'Mangga', 'Apel']\n",
        "for a in buah:\n",
        "  print(f'{a} adalah item dari list buah') "
      ],
      "metadata": {
        "colab": {
          "base_uri": "https://localhost:8080/"
        },
        "id": "0hpayYJtvy6g",
        "outputId": "c3e0f65b-0189-4d27-8a1c-d0f9cf271d7f"
      },
      "execution_count": 48,
      "outputs": [
        {
          "output_type": "stream",
          "name": "stdout",
          "text": [
            "Pepaya adalah item dari list buah\n",
            "Jambu adalah item dari list buah\n",
            "Mangga adalah item dari list buah\n",
            "Apel adalah item dari list buah\n"
          ]
        }
      ]
    },
    {
      "cell_type": "code",
      "source": [
        "i = 0\n",
        "buah = ['Pepaya', 'Jambu', 'Mangga', 'Apel']\n",
        "while i < len(buah):\n",
        "  print(buah[i])\n",
        "\n",
        "  i += 1"
      ],
      "metadata": {
        "colab": {
          "base_uri": "https://localhost:8080/"
        },
        "id": "47BRIG6IwNKe",
        "outputId": "36fbbcb1-6006-416a-8e0c-8bf2b06eb4c8"
      },
      "execution_count": 50,
      "outputs": [
        {
          "output_type": "stream",
          "name": "stdout",
          "text": [
            "Pepaya\n",
            "Jambu\n",
            "Mangga\n",
            "Apel\n"
          ]
        }
      ]
    },
    {
      "cell_type": "code",
      "source": [
        "for i in range(len(buah)):\n",
        "  print(f'{buah[i]} adalah item dari list buah') "
      ],
      "metadata": {
        "colab": {
          "base_uri": "https://localhost:8080/"
        },
        "id": "dNpRpPagw6d5",
        "outputId": "bccfba9d-32e3-43a3-8984-6119618e8981"
      },
      "execution_count": 51,
      "outputs": [
        {
          "output_type": "stream",
          "name": "stdout",
          "text": [
            "Pepaya adalah item dari list buah\n",
            "Jambu adalah item dari list buah\n",
            "Mangga adalah item dari list buah\n",
            "Apel adalah item dari list buah\n"
          ]
        }
      ]
    },
    {
      "cell_type": "code",
      "source": [
        "list(range(1,11))"
      ],
      "metadata": {
        "colab": {
          "base_uri": "https://localhost:8080/"
        },
        "id": "TPNoYp_ZyJac",
        "outputId": "178e1cb4-0d26-4246-e2ff-546f1400807f"
      },
      "execution_count": 52,
      "outputs": [
        {
          "output_type": "execute_result",
          "data": {
            "text/plain": [
              "[1, 2, 3, 4, 5, 6, 7, 8, 9, 10]"
            ]
          },
          "metadata": {},
          "execution_count": 52
        }
      ]
    },
    {
      "cell_type": "code",
      "source": [
        "# tabel perkalian 7\n",
        "\n",
        "for i  in range(1,11):\n",
        "  print(f\"7 x {i} = {7*1}\")"
      ],
      "metadata": {
        "colab": {
          "base_uri": "https://localhost:8080/"
        },
        "id": "eOJefaz6yeHX",
        "outputId": "1eafd18b-3ba0-4d20-ac65-8660bb459a6a"
      },
      "execution_count": 54,
      "outputs": [
        {
          "output_type": "stream",
          "name": "stdout",
          "text": [
            "7 x 1 = 7\n",
            "7 x 2 = 7\n",
            "7 x 3 = 7\n",
            "7 x 4 = 7\n",
            "7 x 5 = 7\n",
            "7 x 6 = 7\n",
            "7 x 7 = 7\n",
            "7 x 8 = 7\n",
            "7 x 9 = 7\n",
            "7 x 10 = 7\n"
          ]
        }
      ]
    },
    {
      "cell_type": "code",
      "source": [
        ""
      ],
      "metadata": {
        "id": "1EkrEn0TzIZv"
      },
      "execution_count": null,
      "outputs": []
    }
  ]
}